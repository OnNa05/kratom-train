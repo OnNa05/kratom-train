{
 "cells": [
  {
   "cell_type": "code",
   "execution_count": 1,
   "metadata": {},
   "outputs": [],
   "source": [
    "#https://www.youtube.com/watch?v=JrtuWJYrmSM"
   ]
  },
  {
   "cell_type": "code",
   "execution_count": null,
   "metadata": {},
   "outputs": [],
   "source": []
  },
  {
   "cell_type": "code",
   "execution_count": 2,
   "metadata": {},
   "outputs": [],
   "source": [
    "import numpy as np\n",
    "import cv2\n",
    "from os import listdir\n",
    "from os.path import isfile, join\n",
    "from tqdm import tqdm\n",
    "import tensorflow as tf\n",
    "from keras.models import Sequential\n",
    "from keras.layers import Dense, Dropout, Activation, Flatten , Conv2D, MaxPool2D\n",
    "import matplotlib.pyplot as plt"
   ]
  },
  {
   "cell_type": "code",
   "execution_count": 3,
   "metadata": {},
   "outputs": [],
   "source": [
    "# img1 = cv2.imread(\"G:\\\\Project-Kratom\\\\img\\\\train\\\\Boiled_leaves\\\\LINE_ALBUM_ใบต้ม new_220806_0.jpg\")\n",
    "# img1 = cv2.cvtColor(img1 , cv2.COLOR_BGR2RGB)\n",
    "\n",
    "# img2 = cv2.imread(r'G:\\Project-Kratom\\img\\train\\Boiled_leaves\\LINE_ALBUM_ใบต้ม new_220806_12.jpg')\n",
    "# img2 = cv2.cvtColor(img2 , cv2.COLOR_BGR2RGB)\n",
    "\n",
    "# plt.figure(figsize=(8,4))\n",
    "# plt.subplot(121),plt.imshow(img1)\n",
    "# plt.subplot(122),plt.imshow(img2)"
   ]
  },
  {
   "cell_type": "code",
   "execution_count": 4,
   "metadata": {},
   "outputs": [],
   "source": [
    "width = 128\n",
    "num_classes = 8\n",
    "trainpath = r'G:\\Project-Kratom\\img\\train'\n",
    "testpath = r'G:\\Project-Kratom\\img\\test'\n",
    "trainImg = [trainpath + \"\\\\\"+ f for f in listdir(trainpath)]\n",
    "testImg = [testpath + \"\\\\\"+ f for f in listdir(testpath)]"
   ]
  },
  {
   "cell_type": "code",
   "execution_count": 5,
   "metadata": {},
   "outputs": [],
   "source": [
    "def img2data(path):\n",
    "    rawImgs = []\n",
    "    labels = []\n",
    "\n",
    "    for imagePath in (path):\n",
    "        for item in tqdm(listdir(imagePath)):\n",
    "            file = join(imagePath, item)\n",
    "            \n",
    "            if file[-1] =='g':\n",
    "                img = cv2.imread(file , cv2.COLOR_BGR2RGB)\n",
    "                img = cv2.resize(img ,(width,width))\n",
    "                rawImgs.append(img)\n",
    "\n",
    "                name =  imagePath.split('\\\\')\n",
    "                l = name[len(name) - 1]\n",
    "            #['Boiled_leaves', 'Green_stalk_GradeA', 'Green_stalk_GradeB', 'Green_stalk_GradeC', 'JUMBO', 'Red_stalk_GradeA', 'Red_stalk_GradeB', 'Red_stalk_GradeC']\n",
    "            if l == 'Boiled_leaves':\n",
    "                labels.append([1,0,0,0,0,0,0,0])         \n",
    "            elif l == 'Green_stalk_GradeA':\n",
    "                labels.append([0,1,0,0,0,0,0,0])  \n",
    "            elif l == 'Green_stalk_GradeB':\n",
    "                labels.append([0,0,1,0,0,0,0,0])\n",
    "            elif l == 'Green_stalk_GradeC':\n",
    "                labels.append([0,0,0,1,0,0,0,0])\n",
    "            elif l == 'JUMBO':\n",
    "                labels.append([0,0,0,0,1,0,0,0])\n",
    "            elif l == 'Red_stalk_GradeA':\n",
    "                labels.append([0,0,0,0,0,1,0,0])\n",
    "            elif l == 'Red_stalk_GradeB':\n",
    "                labels.append([0,0,0,0,0,0,1,0])\n",
    "            elif l == 'Red_stalk_GradeC':\n",
    "                labels.append([0,0,0,0,0,0,0,1])\n",
    "    return rawImgs, labels"
   ]
  },
  {
   "cell_type": "code",
   "execution_count": null,
   "metadata": {},
   "outputs": [],
   "source": [
    "x_train, y_train = img2data(trainImg)\n",
    "x_test, y_test = img2data(testImg)"
   ]
  },
  {
   "cell_type": "code",
   "execution_count": 7,
   "metadata": {},
   "outputs": [],
   "source": [
    "x_train = np.array(x_train)\n",
    "y_train = np.array(y_train)\n",
    "x_test = np.array(x_test)\n",
    "y_test = np.array(y_test)\n",
    "x_train = x_train.astype('float32')\n",
    "x_test = x_test.astype('float32')\n",
    "x_train /= 255\n",
    "x_test /= 255"
   ]
  },
  {
   "cell_type": "code",
   "execution_count": 8,
   "metadata": {},
   "outputs": [
    {
     "data": {
      "text/plain": [
       "((1728, 128, 128, 3), (1728, 8), (547, 128, 128, 3), (547, 8))"
      ]
     },
     "execution_count": 8,
     "metadata": {},
     "output_type": "execute_result"
    }
   ],
   "source": [
    "x_train.shape,y_train.shape,x_test.shape, y_test.shape"
   ]
  },
  {
   "cell_type": "code",
   "execution_count": 9,
   "metadata": {},
   "outputs": [],
   "source": [
    "model0 = Sequential([\n",
    "        Conv2D(128, (3,3), activation='relu', input_shape=(width, width, 3)),\n",
    "        MaxPool2D(2), #ทำให้ข้อมูลเล็กลง เพื่อ?\n",
    "        #Dropout(0.25), #ลดความฉลาด เพื่อลด over fitting\n",
    "        Conv2D(128,(3,3) , activation='relu'),\n",
    "        MaxPool2D(pool_size=(2,2 )),\n",
    "        Dense(16),\n",
    "        Flatten(),\n",
    "\n",
    "        Dense(num_classes, activation='softmax') #softmax for one hot . . # sigmoid for 0/1\n",
    "    ])"
   ]
  },
  {
   "cell_type": "code",
   "execution_count": null,
   "metadata": {},
   "outputs": [],
   "source": [
    "model0.summary()"
   ]
  },
  {
   "cell_type": "code",
   "execution_count": 11,
   "metadata": {},
   "outputs": [],
   "source": [
    "model0.compile(optimizer=tf.keras.optimizers.Adam(learning_rate=0.001), \n",
    "              loss='categorical_crossentropy', \n",
    "              metrics= ['accuracy'])\n",
    "batch_size = 32 \n",
    "epochs = 20"
   ]
  },
  {
   "cell_type": "code",
   "execution_count": null,
   "metadata": {},
   "outputs": [],
   "source": [
    "history = model0.fit(x_train, y_train ,batch_size=batch_size, epochs=epochs ,validation_data=(x_test, y_test))"
   ]
  },
  {
   "cell_type": "code",
   "execution_count": null,
   "metadata": {},
   "outputs": [],
   "source": [
    "import matplotlib.pyplot as plt\n",
    "plt.figure(figsize=(10,4))\n",
    "plt.subplot(121),\n",
    "plt.title('model accuracy');plt.ylabel('accuracy');plt.xlabel('epoch')\n",
    "plt.legend(['train', 'validation'], loc='upper left')\n",
    "plt.plot(history.history['accuracy']);plt.plot(history.history['val_accuracy'])\n",
    "\n",
    "plt.subplot(122)\n",
    "plt.title('model loss')\n",
    "plt.ylabel('loss')\n",
    "plt.xlabel('epoch')\n",
    "plt.legend(['train', 'validation'], loc='upper left')\n",
    "plt.plot(history.history['loss']);plt.plot(history.history['val_loss'])"
   ]
  },
  {
   "cell_type": "code",
   "execution_count": 14,
   "metadata": {},
   "outputs": [],
   "source": [
    "testpath = r'G:\\Project-Kratom\\img\\test'\n",
    "testImg = [testpath + \"\\\\\"+ f for f in listdir(testpath)]\n",
    "for imagePath in (testImg):\n",
    "    for i,item in enumerate(listdir(imagePath)):\n",
    "        file = join(imagePath, item)\n",
    "        # print(file)"
   ]
  },
  {
   "cell_type": "code",
   "execution_count": null,
   "metadata": {},
   "outputs": [],
   "source": [
    "testpath = r'G:\\Project-Kratom\\img\\test'\n",
    "testImg = [testpath + \"\\\\\"+ f for f in listdir(testpath)]\n",
    "rimg = []\n",
    "for imagePath in (testImg):\n",
    "    j = 0\n",
    "    for i,item in enumerate(listdir(imagePath)):\n",
    "        if j == 3:\n",
    "            break\n",
    "        file = join(imagePath, item)\n",
    "        if file[-1] =='g':\n",
    "        #   print(file)\n",
    "          imgori = cv2.imread(file)\n",
    "          imgori = cv2.cvtColor(imgori , cv2.COLOR_BGR2RGB)\n",
    "          img = cv2.resize(imgori ,(width,width))\n",
    "          rimg = np.array(img)\n",
    "          rimg = rimg.astype('float32')\n",
    "          rimg /= 255\n",
    "          rimg = np.reshape(rimg ,(1,128,128,3))\n",
    "          predict = model0.predict(rimg)\n",
    "          #['Boiled_leaves', 'Green_stalk_GradeA', 'Green_stalk_GradeB', 'Green_stalk_GradeC', 'JUMBO', 'Red_stalk_GradeA', 'Red_stalk_GradeB', 'Red_stalk_GradeC']\n",
    "          label = ['Boiled_leaves','Green_stalk_GradeA','Green_stalk_GradeB','Green_stalk_GradeC','JUMBO','Red_stalk_GradeA','Red_stalk_GradeB','Red_stalk_GradeC'] \n",
    "          result = label[np.argmax(predict)]\n",
    "          print(predict[0]*100)\n",
    "          plt.title(imagePath)\n",
    "          cv2.putText(imgori, str(result), (25,25), cv2.FONT_HERSHEY_SIMPLEX, 1, (255,0,0), 2 )\n",
    "          plt.imshow(imgori)\n",
    "          plt.show()\n",
    "        j += 1"
   ]
  },
  {
   "cell_type": "code",
   "execution_count": 16,
   "metadata": {},
   "outputs": [],
   "source": [
    "base_model = tf.keras.applications.MobileNetV2(input_shape=(128,128,3),\n",
    "                                                   include_top=False,\n",
    "                                                   weights='imagenet')\n",
    "base_model.trainable = False\n",
    "num_classes = 8\n",
    "\n",
    "model = Sequential([\n",
    "        base_model,\n",
    "        Conv2D(128, 3, activation='relu'),\n",
    "        Dense(16),\n",
    "        Flatten(),\n",
    "        Dense(num_classes, activation='softmax')\n",
    "    ])"
   ]
  },
  {
   "cell_type": "code",
   "execution_count": null,
   "metadata": {},
   "outputs": [],
   "source": [
    "model.summary()"
   ]
  },
  {
   "cell_type": "code",
   "execution_count": 18,
   "metadata": {},
   "outputs": [],
   "source": [
    "model.compile(optimizer=tf.keras.optimizers.Adam(learning_rate=0.001), \n",
    "              loss='categorical_crossentropy', \n",
    "              metrics= ['accuracy'])\n",
    "batch_size = 32\n",
    "epochs = 20"
   ]
  },
  {
   "cell_type": "code",
   "execution_count": null,
   "metadata": {},
   "outputs": [],
   "source": [
    "history = model.fit(x_train, y_train ,batch_size=batch_size, epochs=epochs ,validation_data=(x_test, y_test))"
   ]
  },
  {
   "cell_type": "code",
   "execution_count": null,
   "metadata": {},
   "outputs": [],
   "source": [
    "import matplotlib.pyplot as plt\n",
    "plt.plot(history.history['accuracy'])\n",
    "plt.plot(history.history['val_accuracy'])\n",
    "plt.title('model accuracy')\n",
    "plt.ylabel('accuracy')\n",
    "plt.xlabel('epoch')\n",
    "plt.legend(['train', 'validation'], loc='upper left')\n",
    "plt.show()\n",
    "# \"Loss\"\n",
    "plt.plot(history.history['loss'])\n",
    "plt.plot(history.history['val_loss'])\n",
    "plt.title('model loss')\n",
    "plt.ylabel('loss')\n",
    "plt.xlabel('epoch')\n",
    "plt.legend(['train', 'validation'], loc='upper left')\n",
    "plt.show()"
   ]
  },
  {
   "cell_type": "code",
   "execution_count": 61,
   "metadata": {},
   "outputs": [],
   "source": [
    "clist = []\n",
    "wlist = []"
   ]
  },
  {
   "cell_type": "code",
   "execution_count": null,
   "metadata": {},
   "outputs": [],
   "source": [
    "testpath = r'G:\\Project-Kratom\\img\\mini valid'\n",
    "testImg = [testpath + \"\\\\\"+ f for f in listdir(testpath)]\n",
    "rimg = []\n",
    "for imagePath in (testImg):\n",
    "    # j = 0\n",
    "    for i,item in enumerate(listdir(imagePath)):\n",
    "        # if j == 1:\n",
    "            # break\n",
    "        name = \"\"\n",
    "        file = join(imagePath, item)\n",
    "        if file[-1] =='g':\n",
    "        #   print(file)\n",
    "          imgori = cv2.imread(file)\n",
    "          imgori = cv2.cvtColor(imgori , cv2.COLOR_BGR2RGB)\n",
    "          img = cv2.resize(imgori ,(width,width))\n",
    "          rimg = np.array(img)\n",
    "          rimg = rimg.astype('float32')\n",
    "          rimg /= 255\n",
    "          rimg = np.reshape(rimg ,(1,128,128,3))\n",
    "          predict = model.predict(rimg)\n",
    "          #['Boiled_leaves', 'Green_stalk_GradeA', 'Green_stalk_GradeB', 'Green_stalk_GradeC', 'JUMBO', 'Red_stalk_GradeA', 'Red_stalk_GradeB', 'Red_stalk_GradeC']\n",
    "          label = ['Boiled_leaves','Green_stalk_GradeA','Green_stalk_GradeB','Green_stalk_GradeC','JUMBO','Red_stalk_GradeA','Red_stalk_GradeB','Red_stalk_GradeC'] \n",
    "          result = label[np.argmax(predict)]\n",
    "          name = result\n",
    "          print(predict)\n",
    "          plt.title(imagePath)\n",
    "          cv2.putText(imgori, str(result), (25,25), cv2.FONT_HERSHEY_SIMPLEX, 1, (255,0,0), 2 )\n",
    "          plt.imshow(imgori)\n",
    "          plt.show()\n",
    "        # j += 1\n",
    "    \n"
   ]
  },
  {
   "cell_type": "code",
   "execution_count": null,
   "metadata": {},
   "outputs": [],
   "source": [
    "model.save(\"model.h5\")"
   ]
  },
  {
   "cell_type": "code",
   "execution_count": 68,
   "metadata": {},
   "outputs": [
    {
     "data": {
      "text/plain": [
       "[0.7647058823529411,\n",
       " 0.7647058823529411,\n",
       " 0.7647058823529411,\n",
       " 0.7647058823529411,\n",
       " 0.7647058823529411,\n",
       " 0.7647058823529411,\n",
       " 0.7647058823529411,\n",
       " 0.7647058823529411,\n",
       " 0.7647058823529411,\n",
       " 0.7647058823529411,\n",
       " 0.7647058823529411,\n",
       " 0.7647058823529411,\n",
       " 0.7647058823529411,\n",
       " 0.7647058823529411,\n",
       " 0.7647058823529411,\n",
       " 0.7647058823529411,\n",
       " 0,\n",
       " 0.25,\n",
       " 0.7272727272727273,\n",
       " 0.8333333333333334,\n",
       " 0,\n",
       " 1.0,\n",
       " 1.0,\n",
       " 1.0]"
      ]
     },
     "execution_count": 68,
     "metadata": {},
     "output_type": "execute_result"
    }
   ],
   "source": [
    "clist"
   ]
  },
  {
   "cell_type": "code",
   "execution_count": 69,
   "metadata": {},
   "outputs": [
    {
     "data": {
      "text/plain": [
       "[0.23529411764705882,\n",
       " 0.23529411764705882,\n",
       " 0.23529411764705882,\n",
       " 0.23529411764705882,\n",
       " 0.23529411764705882,\n",
       " 0.23529411764705882,\n",
       " 0.23529411764705882,\n",
       " 0.23529411764705882,\n",
       " 0.23529411764705882,\n",
       " 0.23529411764705882,\n",
       " 0.23529411764705882,\n",
       " 0.23529411764705882,\n",
       " 0.23529411764705882,\n",
       " 0.23529411764705882,\n",
       " 0.23529411764705882,\n",
       " 0.23529411764705882,\n",
       " 0,\n",
       " 0.75,\n",
       " 0.2727272727272727,\n",
       " 0.16666666666666666,\n",
       " 0,\n",
       " 0.0,\n",
       " 0.0,\n",
       " 0.0]"
      ]
     },
     "execution_count": 69,
     "metadata": {},
     "output_type": "execute_result"
    }
   ],
   "source": [
    "wlist"
   ]
  },
  {
   "cell_type": "code",
   "execution_count": null,
   "metadata": {},
   "outputs": [],
   "source": [
    "import keras\n",
    "modelLoad = keras.models.load_model(\"model.h5\")"
   ]
  },
  {
   "cell_type": "code",
   "execution_count": null,
   "metadata": {},
   "outputs": [
    {
     "name": "stdout",
     "output_type": "stream",
     "text": [
      "18/18 [==============================] - 1s 20ms/step - loss: 0.0404 - accuracy: 0.9927\n"
     ]
    },
    {
     "data": {
      "text/plain": [
       "[0.04039520397782326, 0.9926874041557312]"
      ]
     },
     "execution_count": 37,
     "metadata": {},
     "output_type": "execute_result"
    }
   ],
   "source": [
    "modelLoad.evaluate(x_test, y_test)"
   ]
  },
  {
   "cell_type": "code",
   "execution_count": null,
   "metadata": {},
   "outputs": [
    {
     "name": "stdout",
     "output_type": "stream",
     "text": [
      "18/18 [==============================] - 1s 19ms/step\n"
     ]
    }
   ],
   "source": [
    "perdic = modelLoad.predict([x_test])"
   ]
  },
  {
   "cell_type": "code",
   "execution_count": null,
   "metadata": {},
   "outputs": [
    {
     "data": {
      "text/plain": [
       "array([5.6950137e-07, 2.5108093e-05, 1.0357776e-04, 1.1919413e-05,\n",
       "       1.0775048e-03, 1.8368687e-02, 1.3381811e-03, 9.7907442e-01],\n",
       "      dtype=float32)"
      ]
     },
     "execution_count": 56,
     "metadata": {},
     "output_type": "execute_result"
    }
   ],
   "source": [
    "perdic[543]"
   ]
  },
  {
   "cell_type": "code",
   "execution_count": 81,
   "metadata": {},
   "outputs": [
    {
     "data": {
      "text/plain": [
       "0.9999999848302181"
      ]
     },
     "execution_count": 81,
     "metadata": {},
     "output_type": "execute_result"
    }
   ],
   "source": [
    "# 547\n",
    "n = 0\n",
    "per = []\n",
    "for p in perdic[345]:\n",
    "    n += p\n",
    "    per.append(p*100)\n",
    "n"
   ]
  },
  {
   "cell_type": "code",
   "execution_count": 82,
   "metadata": {},
   "outputs": [
    {
     "data": {
      "text/plain": [
       "[2.5921302437836857e-06,\n",
       " 0.01759473670972511,\n",
       " 0.003631034996942617,\n",
       " 0.00013385432566792588,\n",
       " 99.83914494514465,\n",
       " 0.009441966540180147,\n",
       " 0.11612167581915855,\n",
       " 0.01392767735524103]"
      ]
     },
     "execution_count": 82,
     "metadata": {},
     "output_type": "execute_result"
    }
   ],
   "source": [
    "per"
   ]
  }
 ],
 "metadata": {
  "kernelspec": {
   "display_name": "Python 3.10.6 64-bit",
   "language": "python",
   "name": "python3"
  },
  "language_info": {
   "codemirror_mode": {
    "name": "ipython",
    "version": 3
   },
   "file_extension": ".py",
   "mimetype": "text/x-python",
   "name": "python",
   "nbconvert_exporter": "python",
   "pygments_lexer": "ipython3",
   "version": "3.10.6"
  },
  "orig_nbformat": 4,
  "vscode": {
   "interpreter": {
    "hash": "369f2c481f4da34e4445cda3fffd2e751bd1c4d706f27375911949ba6bb62e1c"
   }
  }
 },
 "nbformat": 4,
 "nbformat_minor": 2
}
